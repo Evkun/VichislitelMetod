{
 "cells": [
  {
   "cell_type": "code",
   "execution_count": 3,
   "id": "d1a6ccf9-21dd-4f60-8efc-b1c6d62a77d1",
   "metadata": {},
   "outputs": [],
   "source": [
    "import math\n",
    "import matplotlib.pyplot as plt\n",
    "import numpy as np"
   ]
  },
  {
   "cell_type": "code",
   "execution_count": 12,
   "id": "fd75f33f-a576-4ddf-b07e-70883c453ab2",
   "metadata": {},
   "outputs": [],
   "source": [
    "def fn(x):\n",
    "    inte=math.atan(x)/x\n",
    "    return inte"
   ]
  },
  {
   "cell_type": "markdown",
   "id": "d3b42dd1-0568-4c46-80f1-3d2662c4a9fb",
   "metadata": {},
   "source": [
    "# Метод прямоугольников"
   ]
  },
  {
   "cell_type": "code",
   "execution_count": 6,
   "id": "d3577eb1-396b-4c24-b015-4518c8a19b1b",
   "metadata": {},
   "outputs": [],
   "source": [
    "def rect_integral(f,xmin,xmax,n):\n",
    "    dx=(xmax-xmin)/n\n",
    "    area=0\n",
    "    x=xmin\n",
    "    for i in range(n):\n",
    "        area+=dx*f(x)\n",
    "        x+=dx\n",
    "    return area"
   ]
  },
  {
   "cell_type": "markdown",
   "id": "bafa1876-97bf-4d13-88f5-958fb29bb0f5",
   "metadata": {},
   "source": [
    "# Метод трапеций"
   ]
  },
  {
   "cell_type": "code",
   "execution_count": 7,
   "id": "1426d138-d509-4a0c-b2d5-5b6549182351",
   "metadata": {},
   "outputs": [],
   "source": [
    "def tr_integral(f,xmin,xmax,n):\n",
    "    dx=(xmax-xmin)/n\n",
    "    area=0\n",
    "    x=xmin\n",
    "    for i in range(n):\n",
    "        area+=dx*(f(x)+f(x+dx))/2\n",
    "        x+=dx\n",
    "    return area"
   ]
  },
  {
   "cell_type": "code",
   "execution_count": 14,
   "id": "b5956e45-b130-40a3-9a35-c3ddcc946649",
   "metadata": {},
   "outputs": [
    {
     "name": "stdout",
     "output_type": "stream",
     "text": [
      "rect_integral = 0.7407553701931533\n",
      "tr_integral = 0.7407493890486432\n"
     ]
    }
   ],
   "source": [
    "print(\"rect_integral = {}\".format(rect_integral(fn,0.00001,math.pi/4,10000)))\n",
    "print(\"tr_integral = {}\".format(tr_integral(fn,0.00001,math.pi/4,10000)))"
   ]
  },
  {
   "cell_type": "code",
   "execution_count": null,
   "id": "659ec7db-d5b8-42ce-b271-738eb3e155d2",
   "metadata": {},
   "outputs": [],
   "source": []
  }
 ],
 "metadata": {
  "kernelspec": {
   "display_name": "Python 3 (ipykernel)",
   "language": "python",
   "name": "python3"
  },
  "language_info": {
   "codemirror_mode": {
    "name": "ipython",
    "version": 3
   },
   "file_extension": ".py",
   "mimetype": "text/x-python",
   "name": "python",
   "nbconvert_exporter": "python",
   "pygments_lexer": "ipython3",
   "version": "3.11.7"
  }
 },
 "nbformat": 4,
 "nbformat_minor": 5
}
