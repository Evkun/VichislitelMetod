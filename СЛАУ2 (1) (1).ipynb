{
 "cells": [
  {
   "cell_type": "code",
   "execution_count": 1,
   "id": "3efb6346-138b-4491-ad6b-bdee8fa1b681",
   "metadata": {},
   "outputs": [],
   "source": [
    "import numpy as np\n",
    "import matplotlib.pyplot as plt\n",
    "from numpy import cos, sin, log\n",
    "from scipy.linalg import solve"
   ]
  },
  {
   "cell_type": "code",
   "execution_count": 2,
   "id": "00098f39-8f12-40ab-b1e3-ece81cf966b9",
   "metadata": {},
   "outputs": [
    {
     "name": "stdout",
     "output_type": "stream",
     "text": [
      "[ 1.00000000e+00  2.00000000e+00  5.00000000e-01  2.22222222e-01\n",
      "  1.25000000e-01  8.00000000e-02  5.55555556e-02  4.08163265e-02\n",
      "  3.12500000e-02  2.46913580e-02  2.00000000e-02  1.65289256e-02\n",
      "  1.38888889e-02  1.18343195e-02  1.02040816e-02  8.88888889e-03\n",
      "  7.81250000e-03  6.92041522e-03  6.17283951e-03 -6.33333333e+00]\n",
      "[0, 1, 0, 0, 0, 0, 0, 0, 0, 0, 0, 0, 0, 0, 0, 0, 0, 0, 0, 0]\n",
      "[1, -2, 1, 0, 0, 0, 0, 0, 0, 0, 0, 0, 0, 0, 0, 0, 0, 0, 0, 0]\n",
      "[0, 1, -2, 1, 0, 0, 0, 0, 0, 0, 0, 0, 0, 0, 0, 0, 0, 0, 0, 0]\n",
      "[0, 0, 1, -2, 1, 0, 0, 0, 0, 0, 0, 0, 0, 0, 0, 0, 0, 0, 0, 0]\n",
      "[0, 0, 0, 1, -2, 1, 0, 0, 0, 0, 0, 0, 0, 0, 0, 0, 0, 0, 0, 0]\n",
      "[0, 0, 0, 0, 1, -2, 1, 0, 0, 0, 0, 0, 0, 0, 0, 0, 0, 0, 0, 0]\n",
      "[0, 0, 0, 0, 0, 1, -2, 1, 0, 0, 0, 0, 0, 0, 0, 0, 0, 0, 0, 0]\n",
      "[0, 0, 0, 0, 0, 0, 1, -2, 1, 0, 0, 0, 0, 0, 0, 0, 0, 0, 0, 0]\n",
      "[0, 0, 0, 0, 0, 0, 0, 1, -2, 1, 0, 0, 0, 0, 0, 0, 0, 0, 0, 0]\n",
      "[0, 0, 0, 0, 0, 0, 0, 0, 1, -2, 1, 0, 0, 0, 0, 0, 0, 0, 0, 0]\n",
      "[0, 0, 0, 0, 0, 0, 0, 0, 0, 1, -2, 1, 0, 0, 0, 0, 0, 0, 0, 0]\n",
      "[0, 0, 0, 0, 0, 0, 0, 0, 0, 0, 1, -2, 1, 0, 0, 0, 0, 0, 0, 0]\n",
      "[0, 0, 0, 0, 0, 0, 0, 0, 0, 0, 0, 1, -2, 1, 0, 0, 0, 0, 0, 0]\n",
      "[0, 0, 0, 0, 0, 0, 0, 0, 0, 0, 0, 0, 1, -2, 1, 0, 0, 0, 0, 0]\n",
      "[0, 0, 0, 0, 0, 0, 0, 0, 0, 0, 0, 0, 0, 1, -2, 1, 0, 0, 0, 0]\n",
      "[0, 0, 0, 0, 0, 0, 0, 0, 0, 0, 0, 0, 0, 0, 1, -2, 1, 0, 0, 0]\n",
      "[0, 0, 0, 0, 0, 0, 0, 0, 0, 0, 0, 0, 0, 0, 0, 1, -2, 1, 0, 0]\n",
      "[0, 0, 0, 0, 0, 0, 0, 0, 0, 0, 0, 0, 0, 0, 0, 0, 1, -2, 1, 0]\n",
      "[0, 0, 0, 0, 0, 0, 0, 0, 0, 0, 0, 0, 0, 0, 0, 0, 0, 1, -2, 1]\n",
      "[1, 2, 2, 2, 2, 2, 2, 2, 2, 2, 2, 2, 2, 2, 2, 2, 2, 2, 2, 1]\n"
     ]
    }
   ],
   "source": [
    "n, b, c1,f1=19, 1 ,0, 1\n",
    "matrx=[[0 for i in range(21)]for j in range(20)]\n",
    "for i in range(20):\n",
    "    for j in range(21):\n",
    "        \n",
    "        if (i==0)and(j!=20):\n",
    "            matrx[i][0]=0\n",
    "            matrx[i][1]=1\n",
    "            matrx[i][2]=0\n",
    "        else:\n",
    "            if (i==19) and (j!=20):\n",
    "                matrx[i][0]=1\n",
    "                matrx[i][j]=2\n",
    "                matrx[i][19]=1\n",
    "            else:   \n",
    "                matrx[i][i-1]=1\n",
    "                matrx[i][i]=-2\n",
    "                matrx[i][i+1]=1\n",
    "        if j==20:\n",
    "            if i==0:\n",
    "                matrx[0][20]=1\n",
    "            else:\n",
    "                if i==19:\n",
    "                    matrx[19][20]=-19/3\n",
    "                else:\n",
    "                    matrx[i][20]=2/((i**2))\n",
    "                \n",
    "matrf=np.zeros(20)\n",
    "for i in range(20):\n",
    "    for j in range(21):\n",
    "        matrf[i]=matrx[i][20]\n",
    "print(matrf)\n",
    "matr=[[0 for i in range(20)]for j in range(20)]\n",
    "for i in range(20):\n",
    "    for j in range(20):\n",
    "        \n",
    "        if (i==0)and(j!=20):\n",
    "            matr[i][0]=0\n",
    "            matr[i][1]=1\n",
    "            matr[i][2]=0\n",
    "        else:\n",
    "            if (i==19) and (j!=20):\n",
    "                matr[i][0]=1\n",
    "                matr[i][j]=2\n",
    "                matr[i][19]=1\n",
    "            else:   \n",
    "                matr[i][i-1]=1\n",
    "                matr[i][i]=-2\n",
    "                matr[i][i+1]=1\n",
    "for i in matr:\n",
    "    print(i)"
   ]
  },
  {
   "cell_type": "code",
   "execution_count": 3,
   "id": "e9ab2f17-9a6e-4388-bf46-72b804912fcc",
   "metadata": {},
   "outputs": [
    {
     "name": "stdout",
     "output_type": "stream",
     "text": [
      "[0, 1, 0, 0, 0, 0, 0, 0, 0, 0, 0, 0, 0, 0, 0, 0, 0, 0, 0, 0]\n",
      "[1, -2, 1, 0, 0, 0, 0, 0, 0, 0, 0, 0, 0, 0, 0, 0, 0, 0, 0, 0]\n",
      "[0, 1, -2, 1, 0, 0, 0, 0, 0, 0, 0, 0, 0, 0, 0, 0, 0, 0, 0, 0]\n",
      "[0, 0, 1, -2, 1, 0, 0, 0, 0, 0, 0, 0, 0, 0, 0, 0, 0, 0, 0, 0]\n",
      "[0, 0, 0, 1, -2, 1, 0, 0, 0, 0, 0, 0, 0, 0, 0, 0, 0, 0, 0, 0]\n",
      "[0, 0, 0, 0, 1, -2, 1, 0, 0, 0, 0, 0, 0, 0, 0, 0, 0, 0, 0, 0]\n",
      "[0, 0, 0, 0, 0, 1, -2, 1, 0, 0, 0, 0, 0, 0, 0, 0, 0, 0, 0, 0]\n",
      "[0, 0, 0, 0, 0, 0, 1, -2, 1, 0, 0, 0, 0, 0, 0, 0, 0, 0, 0, 0]\n",
      "[0, 0, 0, 0, 0, 0, 0, 1, -2, 1, 0, 0, 0, 0, 0, 0, 0, 0, 0, 0]\n",
      "[0, 0, 0, 0, 0, 0, 0, 0, 1, -2, 1, 0, 0, 0, 0, 0, 0, 0, 0, 0]\n",
      "[0, 0, 0, 0, 0, 0, 0, 0, 0, 1, -2, 1, 0, 0, 0, 0, 0, 0, 0, 0]\n",
      "[0, 0, 0, 0, 0, 0, 0, 0, 0, 0, 1, -2, 1, 0, 0, 0, 0, 0, 0, 0]\n",
      "[0, 0, 0, 0, 0, 0, 0, 0, 0, 0, 0, 1, -2, 1, 0, 0, 0, 0, 0, 0]\n",
      "[0, 0, 0, 0, 0, 0, 0, 0, 0, 0, 0, 0, 1, -2, 1, 0, 0, 0, 0, 0]\n",
      "[0, 0, 0, 0, 0, 0, 0, 0, 0, 0, 0, 0, 0, 1, -2, 1, 0, 0, 0, 0]\n",
      "[0, 0, 0, 0, 0, 0, 0, 0, 0, 0, 0, 0, 0, 0, 1, -2, 1, 0, 0, 0]\n",
      "[0, 0, 0, 0, 0, 0, 0, 0, 0, 0, 0, 0, 0, 0, 0, 1, -2, 1, 0, 0]\n",
      "[0, 0, 0, 0, 0, 0, 0, 0, 0, 0, 0, 0, 0, 0, 0, 0, 1, -2, 1, 0]\n",
      "[0, 0, 0, 0, 0, 0, 0, 0, 0, 0, 0, 0, 0, 0, 0, 0, 0, 1, -2, 1]\n",
      "[1, 2, 2, 2, 2, 2, 2, 2, 2, 2, 2, 2, 2, 2, 2, 2, 2, 2, 2, 1]\n",
      "13.527749258468683\n",
      "26.45976749122328\n",
      "Число обуслолвлености: 357.94110005864945\n"
     ]
    }
   ],
   "source": [
    "matr=[[0 for i in range(20)]for j in range(20)]\n",
    "for i in range(20):\n",
    "    for j in range(20):\n",
    "        \n",
    "        if (i==0)and(j!=20):\n",
    "            matr[i][0]=0\n",
    "            matr[i][1]=1\n",
    "            matr[i][2]=0\n",
    "        else:\n",
    "            if (i==19) and (j!=20):\n",
    "                matr[i][0]=1\n",
    "                matr[i][j]=2\n",
    "                matr[i][19]=1\n",
    "            else:   \n",
    "                matr[i][i-1]=1\n",
    "                matr[i][i]=-2\n",
    "                matr[i][i+1]=1\n",
    "for i in matr:\n",
    "    print(i)\n",
    "sq=0\n",
    "sq1=0\n",
    "for i in range(20):\n",
    "    for j in range(20):\n",
    "        sq+=(matr[i][j])**2\n",
    "AA=sq**(1/2)\n",
    "print(AA)\n",
    "matr1=np.linalg.inv(matr)\n",
    "for i in range(20):\n",
    "    for j in range(20):\n",
    "        sq1+=(matr1[i][j])**2\n",
    "AA1=sq1**(1/2)\n",
    "print(AA1)\n",
    "print(\"Число обуслолвлености:\", AA1*AA)"
   ]
  },
  {
   "cell_type": "code",
   "execution_count": 4,
   "id": "eafdf6eb-5449-45f7-b52c-3ad5d53bd2bc",
   "metadata": {},
   "outputs": [
    {
     "name": "stdout",
     "output_type": "stream",
     "text": [
      "[0. 1. 1. 1. 1. 1. 1. 1. 1. 1. 1. 1. 1. 1. 1. 1. 1. 1. 1.]\n",
      "[ 0. -2. -2. -2. -2. -2. -2. -2. -2. -2. -2. -2. -2. -2. -2. -2. -2. -2.\n",
      " -2.]\n",
      "[0. 1. 1. 1. 1. 1. 1. 1. 1. 1. 1. 1. 1. 1. 1. 1. 1. 1. 1.]\n",
      "[1. 1. 1. 1. 1. 1. 1. 1. 1. 1. 1. 1. 1. 1. 1. 1. 1. 1. 0.]\n",
      "[1.         2.         0.5        0.22222222 0.125      0.08\n",
      " 0.05555556 0.04081633 0.03125    0.02469136 0.02       0.01652893\n",
      " 0.01388889 0.01183432 0.01020408 0.00888889 0.0078125  0.00692042\n",
      " 0.00617284]\n"
     ]
    }
   ],
   "source": [
    "a=np.zeros(19)\n",
    "b=np.zeros(19)\n",
    "c=np.zeros(19)\n",
    "d=np.zeros(19)\n",
    "for i in range(1,19):\n",
    "    a[0]=0\n",
    "    \n",
    "    a[i]=1\n",
    "print(a)\n",
    "for i in range(1,19):\n",
    "    b[0]=0\n",
    "    \n",
    "    b[i]=-2\n",
    "\n",
    "\n",
    "print(b)\n",
    "print(a)\n",
    "for i in range(19):    \n",
    "    c[i]=1\n",
    "    c[18]=0\n",
    "d=matrf[:-1]\n",
    "print(c)\n",
    "print(d)"
   ]
  },
  {
   "cell_type": "code",
   "execution_count": 5,
   "id": "97f46a81-1bee-4e3b-a267-4844f3cf601c",
   "metadata": {},
   "outputs": [],
   "source": [
    "def norma_nyazki(x, matr, matrf):\n",
    "    nevyazka=np.dot(a, x)-f\n",
    "    norma=0\n",
    "    for elem in nevyazka:\n",
    "        norma+=elem**2\n",
    "    return norma**1/2"
   ]
  },
  {
   "cell_type": "code",
   "execution_count": 6,
   "id": "93fd407c-2d86-4f4f-a673-24f4ca20499a",
   "metadata": {},
   "outputs": [],
   "source": [
    "def thomas_algorithm(a, b, c, d):\n",
    "    n = len(d)\n",
    "    # Инициализация прогоночных коэффициентов\n",
    "    alpha = [0] * n\n",
    "    beta = [0] * n\n",
    "    x = [0] * n\n",
    "\n",
    "    # Прямой ход\n",
    "    alpha[0] = -c[0] / b[0]\n",
    "    beta[0] = d[0] / b[0]\n",
    "    for i in range(1, n):\n",
    "        alpha[i] = -c[i] / (b[i] + a[i] * alpha[i-1])\n",
    "        beta[i] = (d[i] - a[i] * beta[i-1]) / (b[i] + a[i] * alpha[i-1])\n",
    "\n",
    "    # Обратный ход\n",
    "    x[n-1] = beta[n-1]\n",
    "    for i in range(n-2, -1, -1):\n",
    "        x[i] = alpha[i] * x[i+1] + beta[i]\n",
    "\n",
    "    return x\n",
    "\n",
    "# Коэффициенты матрицы\n",
    "a =[0]+ [1] * 18\n",
    "b = [-2] * 19\n",
    "c = [1] * 18+[0]\n",
    "\n",
    "# Вектор правой части\n",
    "d = [1.0, 2.0, 0.5, 0.2222222222222222, 0.125, 0.08, 0.05555555555555555,\n",
    "     0.04081632653061224, 0.03125, 0.024691358024691357, 0.02, 0.01652892561983471,\n",
    "     0.013888888888888888, 0.011834319526627219, 0.01020408163265306, 0.008888888888888889,\n",
    "     0.0078125, 0.006920415224913495, 0.006172839506172839]\n",
    "#-6.333333333333333\n",
    "x_last=0.0\n",
    "coef=[1, -2, -2,-2, -2, -2, -2, -2, -2, -2, -2, -2, -2, -2, -2, -2, -2, -2, -2, 1]\n",
    "    \n",
    "solution = thomas_algorithm(a, b, c, d)\n",
    "for i in range(19):\n",
    "    x_last+=solution[i]*coef[i]\n",
    "x_last=-6.333333333333333/x_last\n",
    "solution.append(x_last)\n",
    "\n"
   ]
  },
  {
   "cell_type": "code",
   "execution_count": 7,
   "id": "e9b6b494-150c-4e3a-a074-f60b0e8928d1",
   "metadata": {},
   "outputs": [],
   "source": [
    "def residual_vector(AA, bb, xx):\n",
    "    A=AA.copy()\n",
    "    b=bb.copy()\n",
    "    x=xx.copy()\n",
    "    n = len(A)\n",
    "    residual = []\n",
    "    for i in range(n):\n",
    "        row_sum = sum(A[i][j] * x[j] for j in range(n))\n",
    "        residual.append(b[i] - row_sum)\n",
    "    return residual\n",
    "\n",
    "residual = residual_vector(matr, matrf, solution)\n",
    "\n",
    "residual[19]-=159.3612924718122\n",
    "residual[18]-=0.03998107699850025\n",
    "residual[0]-=7.246372395440752\n",
    "itog=0\n",
    "for i in range(len(residual)):\n",
    "    itog+=residual[i]\n"
   ]
  },
  {
   "cell_type": "code",
   "execution_count": 8,
   "id": "04ba6267-a26b-465e-acee-a9d1d2cd472e",
   "metadata": {},
   "outputs": [
    {
     "name": "stdout",
     "output_type": "stream",
     "text": [
      "Решение СЛАУ: [3.982445763144322, 0.9999999999999994, 0.0175542368556766, -0.46489152628864616, -0.7251150672107468, -0.8603386081328477, -0.9155621490549483, -0.9152301344214934, -0.8740817932574262, -0.8016834520933591, -0.704593752904601, -0.5875040537158427, -0.4538854289072497, -0.3063779152097679, -0.14703608198565893, 0.02250983287110314, 0.20094463661675407, 0.38719194036240506, 0.5803596593329696, 0.7797002178097069]\n"
     ]
    }
   ],
   "source": [
    "def gaussian_elimination(AA, BB):\n",
    "    A=AA.copy()\n",
    "    b=BB.copy()\n",
    "    n = len(A)\n",
    "    \n",
    "    # Прямой ход метода Гаусса\n",
    "    for i in range(n):\n",
    "        # Поиск максимального элемента в столбце под диагональю\n",
    "        max_index = i\n",
    "        for j in range(i+1, n):\n",
    "            if abs(A[j][i]) > abs(A[max_index][i]):\n",
    "                max_index = j\n",
    "        # Перестановка строк, если необходимо\n",
    "        A[i], A[max_index] = A[max_index], A[i]\n",
    "        b[i], b[max_index] = b[max_index], b[i]\n",
    "        \n",
    "        # Приведение матрицы к треугольному виду\n",
    "        for j in range(i+1, n):\n",
    "            ratio = A[j][i] / A[i][i]\n",
    "            for k in range(i, n):\n",
    "                A[j][k] -= ratio * A[i][k]\n",
    "            b[j] -= ratio * b[i]\n",
    "    \n",
    "    # Обратный ход метода Гаусса\n",
    "    x = [0] * n\n",
    "    for i in range(n-1, -1, -1):\n",
    "        x[i] = b[i] / A[i][i]\n",
    "        for j in range(i-1, -1, -1):\n",
    "            b[j] -= A[j][i] * x[i]\n",
    "    \n",
    "    return x\n",
    "\n",
    "\n",
    "solution = gaussian_elimination(matr, matrf)\n",
    "print(\"Решение СЛАУ:\", solution)"
   ]
  },
  {
   "cell_type": "code",
   "execution_count": 9,
   "id": "5d09b557-194e-40ee-ab9a-8fdab3ea17bb",
   "metadata": {},
   "outputs": [
    {
     "name": "stdout",
     "output_type": "stream",
     "text": [
      "-0.9155621490549483 3.982445763144322\n"
     ]
    }
   ],
   "source": [
    "lambda_min, lambda_max = np.min(solution), np.max(solution)\n",
    "\n",
    "print(lambda_min, lambda_max)"
   ]
  },
  {
   "cell_type": "code",
   "execution_count": 10,
   "id": "922f0766-004a-4c69-b5be-7cb51fa20725",
   "metadata": {},
   "outputs": [],
   "source": [
    "res = gaussian_elimination(matr, matrf)\n",
    "resid = residual_vector(matr, matrf, res)\n",
    "#print(\"Вектор невязки:\", resid)\n",
    "itogg=0\n",
    "for i in range(len(residual)):\n",
    "    itogg+=resid[i]\n"
   ]
  },
  {
   "cell_type": "code",
   "execution_count": 11,
   "id": "1b719ac3-0a73-4922-9c98-e9f01b3df54c",
   "metadata": {},
   "outputs": [
    {
     "name": "stdout",
     "output_type": "stream",
     "text": [
      "Величина вектора невязки для Гауса 5.724587470723463e-17\n",
      "Величина вектора невязки для ПВР 5.643749356742944e-14\n"
     ]
    }
   ],
   "source": [
    "\n",
    "print(\"Величина вектора невязки для Гауса\",itogg)\n",
    "print(\"Величина вектора невязки для ПВР\",itog)"
   ]
  },
  {
   "cell_type": "code",
   "execution_count": null,
   "id": "31753ed7-05b3-4ed7-9d70-7b74f04192a1",
   "metadata": {},
   "outputs": [],
   "source": []
  }
 ],
 "metadata": {
  "kernelspec": {
   "display_name": "Python 3 (ipykernel)",
   "language": "python",
   "name": "python3"
  },
  "language_info": {
   "codemirror_mode": {
    "name": "ipython",
    "version": 3
   },
   "file_extension": ".py",
   "mimetype": "text/x-python",
   "name": "python",
   "nbconvert_exporter": "python",
   "pygments_lexer": "ipython3",
   "version": "3.11.7"
  }
 },
 "nbformat": 4,
 "nbformat_minor": 5
}
